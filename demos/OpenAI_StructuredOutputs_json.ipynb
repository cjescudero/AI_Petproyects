{
 "cells": [
  {
   "cell_type": "code",
   "execution_count": 35,
   "metadata": {},
   "outputs": [],
   "source": [
    "import os\n",
    "import requests\n",
    "import pprint\n",
    "from openai import OpenAI\n",
    "from pydantic import BaseModel, Field\n",
    "from typing import List, Optional\n",
    "\n",
    "# Set your OpenAI API key in the shell\n",
    "api_key = os.getenv('OPENAI_API_KEY_traductor')  # Get API key from environment variable\n",
    "#print(api_key)\n",
    "\n",
    "client = OpenAI(api_key=api_key)"
   ]
  },
  {
   "cell_type": "code",
   "execution_count": 36,
   "metadata": {},
   "outputs": [],
   "source": [
    "class Webpage(BaseModel):\n",
    "    title: str\n",
    "    paragraphs: Optional[List[str]] = Field(None, description=\"Text contents enclosed within <p></p> tags.\")\n",
    "    links: Optional[List[str]] = Field(None, description=\"URLs specified by `href` field within <a></a> tags.\")\n",
    "    images: Optional[List[str]] = Field(None, description=\"URLs specified by the `src` field within the <img></img> tags.\")"
   ]
  },
  {
   "cell_type": "code",
   "execution_count": 37,
   "metadata": {},
   "outputs": [],
   "source": [
    "# Coge contenido de la web desde una URL y devuelve un objeto Webpage\n",
    "def get_webpage(url: str) -> str:\n",
    "    response = requests.get(url)\n",
    "    return response.text\n",
    "\n",
    "webpage = get_webpage(\"https://es.wikipedia.org/wiki/Monte_San_Pedro\")"
   ]
  },
  {
   "cell_type": "code",
   "execution_count": 38,
   "metadata": {},
   "outputs": [],
   "source": [
    "response = client.beta.chat.completions.parse(\n",
    "    model=\"gpt-4o-mini\",     #\"gpt-4o-2024-08-06\",\n",
    "    messages=[\n",
    "        {\n",
    "            \"role\": \"system\",\n",
    "            \"content\": \"Eres un parseador de HTML y debes devolver los contenidos de la página parseados.\"\n",
    "        },\n",
    "        {\n",
    "            \"role\": \"user\",\n",
    "            \"content\": f\"{webpage}\"\n",
    "        }\n",
    "    ],\n",
    "    response_format=Webpage\n",
    ")"
   ]
  },
  {
   "cell_type": "code",
   "execution_count": 39,
   "metadata": {},
   "outputs": [
    {
     "name": "stdout",
     "output_type": "stream",
     "text": [
      "{'choices': [{'finish_reason': 'stop',\n",
      "              'index': 0,\n",
      "              'logprobs': None,\n",
      "              'message': {'content': '{\"title\":\"Monte San Pedro - Wikipedia, '\n",
      "                                     'la enciclopedia libre\",\"paragraphs\":[\"> '\n",
      "                                     'Monte San Pedro (en neerlandés: Sint '\n",
      "                                     'Pietersberg;\\u200b en francés: Montagne '\n",
      "                                     'Saint-Pierre) es una cordillera que va '\n",
      "                                     'de norte a sur entre los valles de la '\n",
      "                                     'Geer y el Mosa, desde Maastricht en los '\n",
      "                                     'Países Bajos (u Holanda) a la zona de '\n",
      "                                     'Lieja en Bélgica. Está compuesta de '\n",
      "                                     'piedra caliza, con una red de túneles de '\n",
      "                                     'minas que se extendió 200 kilómetros '\n",
      "                                     '(120 millas) en el siglo XIX. La montaña '\n",
      "                                     'soporta el más rico entorno de '\n",
      "                                     'murciélagos en Benelux, así como el más '\n",
      "                                     'rico entorno de orquídeas en la misma '\n",
      "                                     'región.\",\"Véase también\",\"Geografía de '\n",
      "                                     'los Países Bajos\",\"Geografía de '\n",
      "                                     'Bélgica\",\"Referencias\",\"Enlaces '\n",
      "                                     'externos\"],\"links\":[\"/wiki/Geograf%C3%ADa_de_los_Pa%C3%ADses_Bajos\",\"/wiki/Geograf%C3%ADa_de_B%C3%A9lgica\",\"/wiki/Referencia\"],\"images\":[\"https://upload.wikimedia.org/wikipedia/commons/thumb/0/0e/AlbertkanaalSluisTernaaien3.jpg/275px-AlbertkanaalSluisTernaaien3.jpg\"]}',\n",
      "                          'function_call': None,\n",
      "                          'parsed': {'images': ['https://upload.wikimedia.org/wikipedia/commons/thumb/0/0e/AlbertkanaalSluisTernaaien3.jpg/275px-AlbertkanaalSluisTernaaien3.jpg'],\n",
      "                                     'links': ['/wiki/Geograf%C3%ADa_de_los_Pa%C3%ADses_Bajos',\n",
      "                                               '/wiki/Geograf%C3%ADa_de_B%C3%A9lgica',\n",
      "                                               '/wiki/Referencia'],\n",
      "                                     'paragraphs': ['> Monte San Pedro (en '\n",
      "                                                    'neerlandés: Sint '\n",
      "                                                    'Pietersberg;\\u200b en '\n",
      "                                                    'francés: Montagne '\n",
      "                                                    'Saint-Pierre) es una '\n",
      "                                                    'cordillera que va de '\n",
      "                                                    'norte a sur entre los '\n",
      "                                                    'valles de la Geer y el '\n",
      "                                                    'Mosa, desde Maastricht en '\n",
      "                                                    'los Países Bajos (u '\n",
      "                                                    'Holanda) a la zona de '\n",
      "                                                    'Lieja en Bélgica. Está '\n",
      "                                                    'compuesta de piedra '\n",
      "                                                    'caliza, con una red de '\n",
      "                                                    'túneles de minas que se '\n",
      "                                                    'extendió 200 kilómetros '\n",
      "                                                    '(120 millas) en el siglo '\n",
      "                                                    'XIX. La montaña soporta '\n",
      "                                                    'el más rico entorno de '\n",
      "                                                    'murciélagos en Benelux, '\n",
      "                                                    'así como el más rico '\n",
      "                                                    'entorno de orquídeas en '\n",
      "                                                    'la misma región.',\n",
      "                                                    'Véase también',\n",
      "                                                    'Geografía de los Países '\n",
      "                                                    'Bajos',\n",
      "                                                    'Geografía de Bélgica',\n",
      "                                                    'Referencias',\n",
      "                                                    'Enlaces externos'],\n",
      "                                     'title': 'Monte San Pedro - Wikipedia, la '\n",
      "                                              'enciclopedia libre'},\n",
      "                          'refusal': None,\n",
      "                          'role': 'assistant',\n",
      "                          'tool_calls': []}}],\n",
      " 'created': 1725601401,\n",
      " 'id': 'chatcmpl-A4M2bQ0BB6lFTDh7z3SNZ1ET84AJI',\n",
      " 'model': 'gpt-4o-mini-2024-07-18',\n",
      " 'object': 'chat.completion',\n",
      " 'service_tier': None,\n",
      " 'system_fingerprint': 'fp_483d39d857',\n",
      " 'usage': {'completion_tokens': 280,\n",
      "           'prompt_tokens': 18674,\n",
      "           'total_tokens': 18954}}\n"
     ]
    }
   ],
   "source": [
    "# Imprime response en formato JSON  con pprint  \n",
    "pprint.pprint(response.dict())"
   ]
  }
 ],
 "metadata": {
  "kernelspec": {
   "display_name": "Python 3",
   "language": "python",
   "name": "python3"
  },
  "language_info": {
   "codemirror_mode": {
    "name": "ipython",
    "version": 3
   },
   "file_extension": ".py",
   "mimetype": "text/x-python",
   "name": "python",
   "nbconvert_exporter": "python",
   "pygments_lexer": "ipython3",
   "version": "3.12.2"
  }
 },
 "nbformat": 4,
 "nbformat_minor": 2
}
