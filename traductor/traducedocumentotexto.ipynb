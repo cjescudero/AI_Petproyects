{
 "cells": [
  {
   "cell_type": "code",
   "execution_count": 13,
   "metadata": {},
   "outputs": [],
   "source": [
    "import os\n",
    "from openai import OpenAI\n",
    "\n",
    "# Set input and output languages\n",
    "input_language = 'English'  # Input language\n",
    "output_language = 'Spanish'  # Output language\n",
    "\n",
    "# Paragraph separators\n",
    "input_paragraph = '.\\n'  # Input paragraph separator\n",
    "output_paragraph = '\\n\\n'  # Output paragraph separator\n",
    "\n",
    "# Set input and output file names\n",
    "input_file = 'file_input.txt'  # Input file name\n",
    "output_file = 'file_translation.txt'  # Output file name\n",
    "\n",
    "# Set your OpenAI API key in the shell\n",
    "api_key = os.getenv('OPENAI_API_KEY_traductor')  # Get API key from environment variable\n",
    "#print(api_key)\n"
   ]
  },
  {
   "cell_type": "code",
   "execution_count": 14,
   "metadata": {},
   "outputs": [],
   "source": [
    "# Functions\n",
    "def translate_paragraph(paragraph):\n",
    "    if not api_key:\n",
    "        raise ValueError(\"OpenAI API key is not configured.\")\n",
    "    client = OpenAI(api_key=api_key)\n",
    "\n",
    "    # Call the GPT model to translate the paragraph\n",
    "    response = client.chat.completions.create(\n",
    "        model=\"gpt-4o-mini\",  # Use the correct model\n",
    "        messages=[\n",
    "            {\"role\": \"system\", \"content\": f\"You are an expert translator from {input_language} to {output_language}.\"},\n",
    "            {\"role\": \"user\", \"content\": f\"Translate the following paragraph to Spanish. Just give me the translated paragraph, as I will copy and paste it directly into a document: {paragraph}\"}\n",
    "        ],\n",
    "        temperature=0.5\n",
    "    )\n",
    "    # Return the translated text\n",
    "    return response.choices[0].message.content\n",
    "\n",
    "def translate_file(input_file, output_file):\n",
    "    # Read the content from the input file\n",
    "    with open(input_file, 'r') as f:\n",
    "        content = f.read()\n",
    "\n",
    "    # Split the content into paragraphs\n",
    "    paragraphs = content.split(input_paragraph)\n",
    "\n",
    "    # Translate and save to the output file\n",
    "    with open(output_file, 'w') as f:\n",
    "        for paragraph in paragraphs:\n",
    "            if paragraph.strip():  # If the paragraph is not empty\n",
    "                translation = translate_paragraph(paragraph)\n",
    "                f.write(translation + output_paragraph)\n"
   ]
  },
  {
   "cell_type": "code",
   "execution_count": 15,
   "metadata": {},
   "outputs": [],
   "source": [
    "translate_file(input_file, output_file)"
   ]
  }
 ],
 "metadata": {
  "kernelspec": {
   "display_name": "Python 3",
   "language": "python",
   "name": "python3"
  },
  "language_info": {
   "codemirror_mode": {
    "name": "ipython",
    "version": 3
   },
   "file_extension": ".py",
   "mimetype": "text/x-python",
   "name": "python",
   "nbconvert_exporter": "python",
   "pygments_lexer": "ipython3",
   "version": "3.12.2"
  }
 },
 "nbformat": 4,
 "nbformat_minor": 2
}
